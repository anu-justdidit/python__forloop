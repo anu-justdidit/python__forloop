{
 "cells": [
  {
   "cell_type": "code",
   "execution_count": 1,
   "id": "8050050f-256f-45a7-bdab-141ee2b67cff",
   "metadata": {},
   "outputs": [
    {
     "name": "stdout",
     "output_type": "stream",
     "text": [
      "1\n",
      "2\n",
      "3\n",
      "4\n",
      "5\n",
      "6\n",
      "7\n",
      "8\n",
      "9\n",
      "10\n"
     ]
    }
   ],
   "source": [
    "#Topic 1: Python problems Assignment problems...question no 1(basic level)\n",
    "#Python program to print the numbers from 1 to 10 using a for loop.\n",
    "for i in range(1, 11):\n",
    "    print(i)\n"
   ]
  },
  {
   "cell_type": "code",
   "execution_count": 3,
   "id": "807001fb-02d6-463f-88b9-098bdd02560e",
   "metadata": {},
   "outputs": [
    {
     "name": "stdout",
     "output_type": "stream",
     "text": [
      "Sum of numbers in the list: 15\n"
     ]
    }
   ],
   "source": [
    "#Topic 1: Python problems Assignment problems...question no 2(basic level)\n",
    "#calculates the sum of all numbers in a list using a for loop.\n",
    "my_list = [1, 2, 3, 4, 5]\n",
    "total = 0\n",
    "for num in my_list:\n",
    "    total += num\n",
    "print(\"Sum of numbers in the list:\", total)\n"
   ]
  },
  {
   "cell_type": "code",
   "execution_count": 5,
   "id": "4cd58539-a2b0-4588-ac35-7ab86296aaab",
   "metadata": {},
   "outputs": [
    {
     "name": "stdout",
     "output_type": "stream",
     "text": [
      "Reversed string: !dlroW ,olleH\n"
     ]
    }
   ],
   "source": [
    "#Topic 1: Python problems Assignment problems...question no 3(basic level)\n",
    "# program to print the characters of a string in reverse order using a for loop.\n",
    "\n",
    "my_string = \"Hello, World!\"\n",
    "reverse_string = \"\"\n",
    "for char in my_string[::-1]:\n",
    "    reverse_string += char\n",
    "print(\"Reversed string:\", reverse_string)\n"
   ]
  },
  {
   "cell_type": "code",
   "execution_count": 6,
   "id": "88210966-f625-450d-8a6f-2e458e983673",
   "metadata": {},
   "outputs": [
    {
     "name": "stdout",
     "output_type": "stream",
     "text": [
      "Factorial of 5 is: 120\n"
     ]
    }
   ],
   "source": [
    "#Topic 1: Python problems Assignment problems...question no 4(basic level)\n",
    "# program to find the factorial of a given number using a for loop.\n",
    "num = 5  # Example number\n",
    "factorial = 1\n",
    "for i in range(1, num + 1):\n",
    "    factorial *= i\n",
    "print(\"Factorial of\", num, \"is:\", factorial)\n"
   ]
  },
  {
   "cell_type": "code",
   "execution_count": 8,
   "id": "bd359179-575e-4f61-b4e4-4a64627ef3df",
   "metadata": {},
   "outputs": [
    {
     "name": "stdout",
     "output_type": "stream",
     "text": [
      "Multiplication table of 7\n",
      "7 x 1 = 7\n",
      "7 x 2 = 14\n",
      "7 x 3 = 21\n",
      "7 x 4 = 28\n",
      "7 x 5 = 35\n",
      "7 x 6 = 42\n",
      "7 x 7 = 49\n",
      "7 x 8 = 56\n",
      "7 x 9 = 63\n",
      "7 x 10 = 70\n"
     ]
    }
   ],
   "source": [
    "#Topic 1: Python problems Assignment problems...question no 5(basic level)\n",
    "#a program to print the multiplication table of a given number using a for loop.\n",
    "num = 7  # Example number\n",
    "print(\"Multiplication table of\", num)\n",
    "for i in range(1, 11):\n",
    "    print(num, \"x\", i, \"=\", num * i)\n"
   ]
  },
  {
   "cell_type": "code",
   "execution_count": 9,
   "id": "a85bd3fd-43f0-45ba-9ad7-93e51906fb92",
   "metadata": {},
   "outputs": [
    {
     "name": "stdout",
     "output_type": "stream",
     "text": [
      "Number of even numbers: 5\n",
      "Number of odd numbers: 5\n"
     ]
    }
   ],
   "source": [
    "#Topic 1: Python problems Assignment problems...question no 6(basic level)\n",
    "#a program that counts the number of even and odd numbers in a list using a for loop.\n",
    "numbers = [1, 2, 3, 4, 5, 6, 7, 8, 9, 10]\n",
    "even_count = 0\n",
    "odd_count = 0\n",
    "for num in numbers:\n",
    "    if num % 2 == 0:\n",
    "        even_count += 1\n",
    "    else:\n",
    "        odd_count += 1\n",
    "print(\"Number of even numbers:\", even_count)\n",
    "print(\"Number of odd numbers:\", odd_count)\n"
   ]
  },
  {
   "cell_type": "code",
   "execution_count": 11,
   "id": "2e96843a-1283-49be-849d-c8acf11e497f",
   "metadata": {},
   "outputs": [
    {
     "name": "stdout",
     "output_type": "stream",
     "text": [
      "Square of 1 is: 1\n",
      "Square of 2 is: 4\n",
      "Square of 3 is: 9\n",
      "Square of 4 is: 16\n",
      "Square of 5 is: 25\n"
     ]
    }
   ],
   "source": [
    "#Topic 1: Python problems Assignment problems...question no 7(basic level)\n",
    "#a program that prints the squares of numbers from 1 to 5 using a for loop.\n",
    "for i in range(1, 6):\n",
    "    print(\"Square of\", i, \"is:\", i * i)\n"
   ]
  },
  {
   "cell_type": "code",
   "execution_count": 12,
   "id": "c30b73c2-a53f-4099-b62d-f37f0a58e2f1",
   "metadata": {},
   "outputs": [
    {
     "name": "stdout",
     "output_type": "stream",
     "text": [
      "Length of the string is: 18\n"
     ]
    }
   ],
   "source": [
    "#Topic 1: Python problems Assignment problems...question no 8(basic level)\n",
    "#a program to find the length of a string without using the `len()` function.\n",
    "my_string = \"Python is amazing!\"\n",
    "length = 0\n",
    "for char in my_string:\n",
    "    length += 1\n",
    "print(\"Length of the string is:\", length)\n"
   ]
  },
  {
   "cell_type": "code",
   "execution_count": 13,
   "id": "da0bd270-e0d8-47e6-b16a-491411100163",
   "metadata": {},
   "outputs": [
    {
     "name": "stdout",
     "output_type": "stream",
     "text": [
      "Average of the list is: 30.0\n"
     ]
    }
   ],
   "source": [
    "#Topic 1: Python problems Assignment problems...question no 9(basic level)\n",
    "#a program to a program that calculates the average of a list of numbers using a `for` loop.\n",
    "my_list = [10, 20, 30, 40, 50]\n",
    "total = 0\n",
    "for num in my_list:\n",
    "    total += num\n",
    "average = total / len(my_list)\n",
    "print(\"Average of the list is:\", average)\n"
   ]
  },
  {
   "cell_type": "code",
   "execution_count": 15,
   "id": "83ed348f-7af1-4740-95c7-47aa538949d3",
   "metadata": {},
   "outputs": [
    {
     "name": "stdout",
     "output_type": "stream",
     "text": [
      "First 8 Fibonacci numbers:\n",
      "0\n",
      "1\n",
      "1\n",
      "2\n",
      "3\n",
      "5\n",
      "8\n",
      "13\n"
     ]
    }
   ],
   "source": [
    "#Topic 1: Python problems Assignment problems...question no 10(basic level)\n",
    "#a program that prints the first `n` Fibonacci numbers using a `for` loop.\n",
    "n = 8  # Example value of n\n",
    "a, b = 0, 1\n",
    "print(\"First\", n, \"Fibonacci numbers:\")\n",
    "for i in range(n):\n",
    "    print(a)\n",
    "    a, b = b, a + b\n"
   ]
  },
  {
   "cell_type": "code",
   "execution_count": 46,
   "id": "4fd36996-a564-4fe4-aabc-37d2293afd70",
   "metadata": {},
   "outputs": [
    {
     "name": "stdout",
     "output_type": "stream",
     "text": [
      "The list contains duplicates.\n"
     ]
    }
   ],
   "source": [
    "#Topic 1: Python problems Assignment problems...question no 11(intermediate level)\n",
    "#program to check if a given list contains any duplicates using a `for` loop.\n",
    "def has_duplicates(some_list):\n",
    "    seen = set()\n",
    "    for item in some_list:\n",
    "        if item in seen:\n",
    "            return True\n",
    "        seen.add(item)\n",
    "    return False\n",
    "\n",
    "my_list = [1, 2, 3, 4, 5, 2]  # Example list\n",
    "if has_duplicates(my_list):\n",
    "    print(\"The list contains duplicates.\")\n",
    "else:\n",
    "    print(\"The list does not contain duplicates.\")\n"
   ]
  },
  {
   "cell_type": "code",
   "execution_count": 47,
   "id": "4258a11c-8256-40a3-bc10-2c5a9ed9fca6",
   "metadata": {},
   "outputs": [
    {
     "name": "stdout",
     "output_type": "stream",
     "text": [
      "Prime numbers between 10 and 30:\n",
      "11 13 17 19 23 29 "
     ]
    }
   ],
   "source": [
    "#Topic 1: Python problems Assignment problems...question no 12(intermediate level)\n",
    "#program that prints the prime numbers in a given range using a `for` loop.\n",
    "def is_prime(n):\n",
    "    if n <= 1:\n",
    "        return False\n",
    "    for i in range(2, int(n ** 0.5) + 1):\n",
    "        if n % i == 0:\n",
    "            return False\n",
    "    return True\n",
    "\n",
    "start_range = 10  # Example start of the range\n",
    "end_range = 30    # Example end of the range\n",
    "\n",
    "print(f\"Prime numbers between {start_range} and {end_range}:\")\n",
    "for num in range(start_range, end_range + 1):\n",
    "    if is_prime(num):\n",
    "        print(num, end=\" \")\n"
   ]
  },
  {
   "cell_type": "code",
   "execution_count": 48,
   "id": "59e5915a-3c5d-4900-bae1-c338c4845421",
   "metadata": {},
   "outputs": [
    {
     "name": "stdout",
     "output_type": "stream",
     "text": [
      "Number of vowels in the string: 3\n"
     ]
    }
   ],
   "source": [
    "#Topic 1: Python problems Assignment problems...question no 13(intermediate level)\n",
    "# a program that counts the number of vowels in a string using a `for` loop.\n",
    "def count_vowels(some_string):\n",
    "    vowels = 'aeiouAEIOU'\n",
    "    count = 0\n",
    "    for char in some_string:\n",
    "        if char in vowels:\n",
    "            count += 1\n",
    "    return count\n",
    "\n",
    "my_string = \"Hello, World!\"  # Example string\n",
    "print(\"Number of vowels in the string:\", count_vowels(my_string))\n"
   ]
  },
  {
   "cell_type": "code",
   "execution_count": 49,
   "id": "408bcfd3-4c5f-4bb7-95a9-ebe98e568050",
   "metadata": {},
   "outputs": [
    {
     "name": "stdout",
     "output_type": "stream",
     "text": [
      "Maximum element in the 2D list: 9\n"
     ]
    }
   ],
   "source": [
    "#Topic 1: Python problems Assignment problems...question no 14(intermediate level)\n",
    "#program to find the maximum element in a 2D list using a nested `for` loop.\n",
    "my_list = [\n",
    "    [1, 2, 3],\n",
    "    [4, 5, 6],\n",
    "    [7, 8, 9]\n",
    "]  # Example 2D list\n",
    "\n",
    "max_num = float('-inf')\n",
    "for sublist in my_list:\n",
    "    for num in sublist:\n",
    "        if num > max_num:\n",
    "            max_num = num\n",
    "\n",
    "print(\"Maximum element in the 2D list:\", max_num)\n"
   ]
  },
  {
   "cell_type": "code",
   "execution_count": 50,
   "id": "44a999ff-30bb-4a98-b9cf-bc8405635913",
   "metadata": {},
   "outputs": [
    {
     "name": "stdout",
     "output_type": "stream",
     "text": [
      "List after removing all occurrences of 2 : [1, 3, 4, 5]\n"
     ]
    }
   ],
   "source": [
    "#Topic 1: Python problems Assignment problems...question no 15(intermediate level)\n",
    "#program that removes all occurrences of a specific element from a list using a `for` loop.\n",
    "def remove_element(some_list, element):\n",
    "    return [value for value in some_list if value != element]\n",
    "\n",
    "my_list = [1, 2, 3, 2, 4, 2, 5]  # Example list\n",
    "element_to_remove = 2\n",
    "\n",
    "new_list = remove_element(my_list, element_to_remove)\n",
    "print(\"List after removing all occurrences of\", element_to_remove, \":\", new_list)\n"
   ]
  },
  {
   "cell_type": "code",
   "execution_count": 51,
   "id": "dabc8ec3-ab07-4045-b08a-79dccab1dfb3",
   "metadata": {},
   "outputs": [
    {
     "name": "stdout",
     "output_type": "stream",
     "text": [
      "Multiplication table for 1:\n",
      "1 * 1 = 1\n",
      "1 * 2 = 2\n",
      "1 * 3 = 3\n",
      "1 * 4 = 4\n",
      "1 * 5 = 5\n",
      "1 * 6 = 6\n",
      "1 * 7 = 7\n",
      "1 * 8 = 8\n",
      "1 * 9 = 9\n",
      "1 * 10 = 10\n",
      "\n",
      "Multiplication table for 2:\n",
      "2 * 1 = 2\n",
      "2 * 2 = 4\n",
      "2 * 3 = 6\n",
      "2 * 4 = 8\n",
      "2 * 5 = 10\n",
      "2 * 6 = 12\n",
      "2 * 7 = 14\n",
      "2 * 8 = 16\n",
      "2 * 9 = 18\n",
      "2 * 10 = 20\n",
      "\n",
      "Multiplication table for 3:\n",
      "3 * 1 = 3\n",
      "3 * 2 = 6\n",
      "3 * 3 = 9\n",
      "3 * 4 = 12\n",
      "3 * 5 = 15\n",
      "3 * 6 = 18\n",
      "3 * 7 = 21\n",
      "3 * 8 = 24\n",
      "3 * 9 = 27\n",
      "3 * 10 = 30\n",
      "\n",
      "Multiplication table for 4:\n",
      "4 * 1 = 4\n",
      "4 * 2 = 8\n",
      "4 * 3 = 12\n",
      "4 * 4 = 16\n",
      "4 * 5 = 20\n",
      "4 * 6 = 24\n",
      "4 * 7 = 28\n",
      "4 * 8 = 32\n",
      "4 * 9 = 36\n",
      "4 * 10 = 40\n",
      "\n",
      "Multiplication table for 5:\n",
      "5 * 1 = 5\n",
      "5 * 2 = 10\n",
      "5 * 3 = 15\n",
      "5 * 4 = 20\n",
      "5 * 5 = 25\n",
      "5 * 6 = 30\n",
      "5 * 7 = 35\n",
      "5 * 8 = 40\n",
      "5 * 9 = 45\n",
      "5 * 10 = 50\n",
      "\n"
     ]
    }
   ],
   "source": [
    "#Topic 1: Python problems Assignment problems...question no 16(intermediate level)\n",
    "#Develop a program that generates a multiplication table for numbers from 1 to 5 using a nested `for` loop.\n",
    "for i in range(1, 6):\n",
    "    print(f\"Multiplication table for {i}:\")\n",
    "    for j in range(1, 11):\n",
    "        print(f\"{i} * {j} = {i * j}\")\n",
    "    print()\n"
   ]
  },
  {
   "cell_type": "code",
   "execution_count": 52,
   "id": "e1a76b6a-737d-426a-91a5-788a5ff26469",
   "metadata": {},
   "outputs": [
    {
     "name": "stdout",
     "output_type": "stream",
     "text": [
      "Temperatures in Celsius: [0.0, 20.0, 30.0, 40.0, 100.0]\n"
     ]
    }
   ],
   "source": [
    "#Topic 1: Python problems Assignment problems...question no 17(intermediate level)\n",
    "#program that converts a list of Fahrenheit temperatures to Celsius using a `for` loop.\n",
    "def fahrenheit_to_celsius(fahrenheit_list):\n",
    "    return [(f - 32) * 5/9 for f in fahrenheit_list]\n",
    "\n",
    "temperatures_fahrenheit = [32, 68, 86, 104, 212]  # Example Fahrenheit temperatures\n",
    "temperatures_celsius = fahrenheit_to_celsius(temperatures_fahrenheit)\n",
    "print(\"Temperatures in Celsius:\", temperatures_celsius)\n"
   ]
  },
  {
   "cell_type": "code",
   "execution_count": 40,
   "id": "7ce964a0-1bb3-4675-b590-e64703285cac",
   "metadata": {},
   "outputs": [
    {
     "name": "stdout",
     "output_type": "stream",
     "text": [
      "Common elements: [3, 4, 5]\n"
     ]
    }
   ],
   "source": [
    "#Topic 1: Python problems Assignment problems...question no 18(intermediate level)\n",
    "#a program to print the common elements from two lists using a `for` loop.\n",
    "list1 = [1, 2, 3, 4, 5]\n",
    "list2 = [3, 4, 5, 6, 7]  # Example lists\n",
    "\n",
    "common_elements = []\n",
    "for item in list1:\n",
    "    if item in list2:\n",
    "        common_elements.append(item)\n",
    "\n",
    "print(\"Common elements:\", common_elements)\n"
   ]
  },
  {
   "cell_type": "code",
   "execution_count": 38,
   "id": "85c0057e-e95f-4c18-87e6-510cbce1d9ed",
   "metadata": {},
   "outputs": [
    {
     "name": "stdout",
     "output_type": "stream",
     "text": [
      "*\n",
      "**\n",
      "***\n",
      "****\n",
      "*****\n"
     ]
    }
   ],
   "source": [
    "#Topic 1: Python problems Assignment problems...question no 19(intermediate level)\n",
    "# a program that prints the pattern of right-angled triangles using a `for` loop\n",
    "rows = 5  # Example number of rows\n",
    "for i in range(1, rows + 1):\n",
    "    print(\"*\" * i)\n"
   ]
  },
  {
   "cell_type": "code",
   "execution_count": 36,
   "id": "21c8636b-e41f-4e8d-91b4-3c10e7f17cfe",
   "metadata": {},
   "outputs": [
    {
     "name": "stdout",
     "output_type": "stream",
     "text": [
      "GCD of 24 and 36 is: 12\n"
     ]
    }
   ],
   "source": [
    "#Topic 1: Python problems Assignment problems...question no 20(intermediate level)\n",
    "#a program to find the greatest common divisor (GCD) of two numbers using a `for` loop.\n",
    "def gcd(a, b):\n",
    "    while b:\n",
    "        a, b = b, a % b\n",
    "    return a\n",
    "\n",
    "num1 = 24  # Example number 1\n",
    "num2 = 36  # Example number 2\n",
    "\n",
    "print(f\"GCD of {num1} and {num2} is:\", gcd(num1, num2))\n"
   ]
  },
  {
   "cell_type": "code",
   "execution_count": 64,
   "id": "27bfdf8b-5a8a-48b9-a765-cea310af6bc4",
   "metadata": {},
   "outputs": [
    {
     "name": "stdout",
     "output_type": "stream",
     "text": [
      "Sum of digits in each number: [6, 15, 24]\n"
     ]
    }
   ],
   "source": [
    "#Topic 1: Python problems Assignment problems...question no 21(advanced level)\n",
    "#program that calculates the sum of the digits of numbers in a list using a list comprehension.\n",
    "num_list = [123, 456, 789]  # Example list of numbers\n",
    "\n",
    "digit_sum_list = [sum(int(digit) for digit in str(num)) for num in num_list]\n",
    "print(\"Sum of digits in each number:\", digit_sum_list)\n"
   ]
  },
  {
   "cell_type": "code",
   "execution_count": 65,
   "id": "58faf681-2314-4af9-a2f4-a18a5cfaea7b",
   "metadata": {},
   "outputs": [
    {
     "name": "stdout",
     "output_type": "stream",
     "text": [
      "Prime factors of 84: [2, 2, 3, 7]\n"
     ]
    }
   ],
   "source": [
    "#Topic 1: Python problems Assignment problems...question no 22(advanced level)\n",
    "#program to find the prime factors of a given number using a `for` loop and list comprehension.\n",
    "def prime_factors(n):\n",
    "    factors = []\n",
    "    divisor = 2\n",
    "    while n > 1:\n",
    "        if n % divisor == 0:\n",
    "            factors.append(divisor)\n",
    "            n //= divisor\n",
    "        else:\n",
    "            divisor += 1\n",
    "    return factors\n",
    "\n",
    "number = 84  # Example number\n",
    "factors = prime_factors(number)\n",
    "print(f\"Prime factors of {number}:\", factors)\n"
   ]
  },
  {
   "cell_type": "code",
   "execution_count": 66,
   "id": "05799374-95ae-4240-8d9d-9b105b3a8dff",
   "metadata": {},
   "outputs": [
    {
     "name": "stdout",
     "output_type": "stream",
     "text": [
      "Unique elements: [1, 2, 3, 4, 5]\n"
     ]
    }
   ],
   "source": [
    "#Topic 1: Python problems Assignment problems...question no 23(advanced level)\n",
    "#program  that extracts unique elements from a list and stores them in a new list using a list\n",
    "original_list = [1, 2, 2, 3, 3, 4, 5, 5]  # Example list with duplicate elements\n",
    "\n",
    "unique_elements = list(set(original_list))\n",
    "print(\"Unique elements:\", unique_elements)\n"
   ]
  },
  {
   "cell_type": "code",
   "execution_count": 67,
   "id": "e1b830d1-7611-4892-85f4-aa0e4dbb3026",
   "metadata": {},
   "outputs": [
    {
     "name": "stdout",
     "output_type": "stream",
     "text": [
      "Palindromic numbers up to 100 are: [0, 1, 2, 3, 4, 5, 6, 7, 8, 9, 11, 22, 33, 44, 55, 66, 77, 88, 99]\n"
     ]
    }
   ],
   "source": [
    "#Topic 1: Python problems Assignment problems...question no 24(advanced level)\n",
    "#program  that generates a list of all palindromic numbers up to a specified limit using a list comprehension.\n",
    "limit = 100  # Example limit\n",
    "\n",
    "palindromic_numbers = [num for num in range(limit + 1) if str(num) == str(num)[::-1]]\n",
    "print(\"Palindromic numbers up to\", limit, \"are:\", palindromic_numbers)\n"
   ]
  },
  {
   "cell_type": "code",
   "execution_count": 68,
   "id": "6efbe221-d6b9-49be-83e6-37758eb0774f",
   "metadata": {},
   "outputs": [
    {
     "name": "stdout",
     "output_type": "stream",
     "text": [
      "Flattened list: [1, 2, 3, 4, 5, 6, 7, 8]\n"
     ]
    }
   ],
   "source": [
    "#Topic 1: Python problems Assignment problems...question no 25(advanced level)\n",
    "#program to flatten a nested list using list comprehension.\n",
    "nested_list = [[1, 2, 3], [4, 5], [6, 7, 8]]  # Example nested list\n",
    "\n",
    "flattened_list = [element for sublist in nested_list for element in sublist]\n",
    "print(\"Flattened list:\", flattened_list)\n"
   ]
  },
  {
   "cell_type": "code",
   "execution_count": 69,
   "id": "cef34bf6-fef6-469a-b464-42082087903e",
   "metadata": {},
   "outputs": [
    {
     "name": "stdout",
     "output_type": "stream",
     "text": [
      "Sum of even numbers: 30\n",
      "Sum of odd numbers: 25\n"
     ]
    }
   ],
   "source": [
    "#Topic 1: Python problems Assignment problems...question no 26(advanced level)\n",
    "#program that  computes the sum of even and odd numbers in a list separately using list comprehension.\n",
    "num_list = [1, 2, 3, 4, 5, 6, 7, 8, 9, 10]  # Example list\n",
    "\n",
    "even_sum = sum(num for num in num_list if num % 2 == 0)\n",
    "odd_sum = sum(num for num in num_list if num % 2 != 0)\n",
    "print(\"Sum of even numbers:\", even_sum)\n",
    "print(\"Sum of odd numbers:\", odd_sum)\n"
   ]
  },
  {
   "cell_type": "code",
   "execution_count": 70,
   "id": "0229bacf-9196-4cf4-a074-f6e6d7e0d024",
   "metadata": {},
   "outputs": [
    {
     "name": "stdout",
     "output_type": "stream",
     "text": [
      "Squares of odd numbers between 1 and 10: [1, 9, 25, 49, 81]\n"
     ]
    }
   ],
   "source": [
    "#Topic 1: Python problems Assignment problems...question no 27(advanced level)\n",
    "#program that generates a list of squares of odd numbers between 1 and 10 using listcomprehension.\n",
    "squares_odd = [num ** 2 for num in range(1, 11) if num % 2 != 0]\n",
    "print(\"Squares of odd numbers between 1 and 10:\", squares_odd)\n"
   ]
  },
  {
   "cell_type": "code",
   "execution_count": 71,
   "id": "56acb057-692a-48ad-bae8-8907cd0cefe1",
   "metadata": {},
   "outputs": [
    {
     "name": "stdout",
     "output_type": "stream",
     "text": [
      "Combined dictionary: {'a': 1, 'b': 2, 'c': 3}\n"
     ]
    }
   ],
   "source": [
    "#Topic 1: Python problems Assignment problems...question no 28(advanced level)\n",
    "#program that combines two lists into a dictionary using list comprehension.\n",
    "keys = ['a', 'b', 'c']\n",
    "values = [1, 2, 3]  # Example lists\n",
    "\n",
    "combined_dict = {k: v for k, v in zip(keys, values)}\n",
    "print(\"Combined dictionary:\", combined_dict)\n"
   ]
  },
  {
   "cell_type": "code",
   "execution_count": 88,
   "id": "37016a94-81b0-467b-91ed-80e15c5ff481",
   "metadata": {},
   "outputs": [
    {
     "name": "stdout",
     "output_type": "stream",
     "text": [
      "Vowels in the text: ['e', 'o', 'o', 'a', 'e', 'o', 'u']\n"
     ]
    }
   ],
   "source": [
    "#Topic 1: Python problems Assignment problems...question no 29(advanced level)\n",
    "#program that extracts the vowels from a string and stores them in a list using list comprehension.\n",
    "text = \"Hello, how are you?\"  # Example string\n",
    "\n",
    "vowels = [char for char in text if char.lower() in 'aeiou']\n",
    "print(\"Vowels in the text:\", vowels)\n"
   ]
  },
  {
   "cell_type": "code",
   "execution_count": 72,
   "id": "5137a2d4-5f10-4fff-a9a0-7ee6e6773df2",
   "metadata": {},
   "outputs": [
    {
     "name": "stdout",
     "output_type": "stream",
     "text": [
      "Numeric strings: [123, 789]\n"
     ]
    }
   ],
   "source": [
    "#Topic 1: Python problems Assignment problems...question no 30(advanced level)\n",
    "# program that removes all non-numeric characters from a list of strings using list comprehension.\n",
    "string_list = ['abc', '123', 'def456', '789']  # Example list of strings\n",
    "\n",
    "numeric_strings = [int(s) for s in string_list if s.isdigit()]\n",
    "print(\"Numeric strings:\", numeric_strings)\n"
   ]
  },
  {
   "cell_type": "code",
   "execution_count": 99,
   "id": "b1b6a479-cc0c-481d-b8e9-08084d4fc8d0",
   "metadata": {},
   "outputs": [
    {
     "name": "stdout",
     "output_type": "stream",
     "text": [
      "Prime numbers up to 50 are: [2, 3, 5, 7, 11, 13, 17, 19, 23, 29, 31, 37, 41, 43, 47]\n"
     ]
    }
   ],
   "source": [
    "#Topic 1: Python problems Assignment problems...question no 31(challenge level)\n",
    "# program to generate a list of prime numbers using the Sieve of Eratosthenes algorithm and list comprehension.\n",
    "def sieve_of_eratosthenes(n):\n",
    "    sieve = [True] * (n + 1)\n",
    "    sieve[0:2] = [False, False]\n",
    "    for p in range(2, int(n ** 0.5) + 1):\n",
    "        if sieve[p]:\n",
    "            sieve[p*p::p] = [False] * ((n - p*p) // p + 1)\n",
    "    return [num for num in range(n + 1) if sieve[num]]\n",
    "\n",
    "limit = 50  # Example limit\n",
    "primes = sieve_of_eratosthenes(limit)\n",
    "print(\"Prime numbers up to\", limit, \"are:\", primes)\n"
   ]
  },
  {
   "cell_type": "code",
   "execution_count": 97,
   "id": "3a19c00e-ab2a-40f0-a140-2a9802d1441e",
   "metadata": {},
   "outputs": [
    {
     "name": "stdout",
     "output_type": "stream",
     "text": [
      "Pythagorean triplets up to 10 are: [(3, 4, 5)]\n"
     ]
    }
   ],
   "source": [
    "#Topic 1: Python problems Assignment problems...question no 32(challenge level)\n",
    "# a program that generates a list of all Pythagorean triplets up to a specified limit using list\n",
    "limit = 10  # Example limit\n",
    "\n",
    "pythagorean_triplets = [(a, b, c) for a in range(1, limit) for b in range(a, limit)\n",
    "                        for c in range(b, limit) if a ** 2 + b ** 2 == c ** 2]\n",
    "print(\"Pythagorean triplets up to\", limit, \"are:\", pythagorean_triplets)\n"
   ]
  },
  {
   "cell_type": "code",
   "execution_count": 96,
   "id": "895a215c-4b4c-4588-baaa-9698ac828dbc",
   "metadata": {},
   "outputs": [
    {
     "name": "stdout",
     "output_type": "stream",
     "text": [
      "All possible combinations of two lists: [(1, 'a'), (1, 'b'), (2, 'a'), (2, 'b'), (3, 'a'), (3, 'b')]\n"
     ]
    }
   ],
   "source": [
    "#Topic 1: Python problems Assignment problems...question no 33(challenge level)\n",
    "#a program that generates a list of all possible combinations of two lists using list comprehension.\n",
    "list1 = [1, 2, 3]\n",
    "list2 = ['a', 'b']  # Example lists\n",
    "\n",
    "combinations = [(x, y) for x in list1 for y in list2]\n",
    "print(\"All possible combinations of two lists:\", combinations)\n"
   ]
  },
  {
   "cell_type": "code",
   "execution_count": 98,
   "id": "dec14ba0-5499-4387-a145-819f4f367feb",
   "metadata": {},
   "outputs": [
    {
     "name": "stdout",
     "output_type": "stream",
     "text": [
      "Mean: 5.1\n",
      "Median: 5.0\n",
      "Mode: 4\n"
     ]
    }
   ],
   "source": [
    "#Topic 1: Python problems Assignment problems...question no 34(challenge level)\n",
    "#a program that calculates the mean, median, and mode of a list of numbers using list comprehension\n",
    "from statistics import mean, median, mode\n",
    "\n",
    "numbers = [4, 6, 2, 8, 4, 2, 6, 9, 4, 6]  # Example list of numbers\n",
    "\n",
    "mean_value = mean(numbers)\n",
    "median_value = median(numbers)\n",
    "mode_value = mode(numbers)\n",
    "print(\"Mean:\", mean_value)\n",
    "print(\"Median:\", median_value)\n",
    "print(\"Mode:\", mode_value)\n"
   ]
  },
  {
   "cell_type": "code",
   "execution_count": 95,
   "id": "6878f4b9-ebd1-4465-b4c2-6d711c997011",
   "metadata": {},
   "outputs": [
    {
     "name": "stdout",
     "output_type": "stream",
     "text": [
      "      1 \n",
      "     1 1 \n",
      "    1 2 1 \n",
      "   1 3 3 1 \n",
      "  1 4 6 4 1 \n"
     ]
    }
   ],
   "source": [
    "#Topic 1: Python problems Assignment problems...question no 35(challenge level)\n",
    "# Print Pascal's Triangle in Python\n",
    "from math import factorial\n",
    " \n",
    "# input n\n",
    "n = 5\n",
    "for i in range(n):\n",
    "    for j in range(n-i+1):\n",
    " \n",
    "        # for left spacing\n",
    "        print(end=\" \")\n",
    " \n",
    "    for j in range(i+1):\n",
    " \n",
    "        # nCr = n!/((n-r)!*r!)\n",
    "        print(factorial(i)//(factorial(j)*factorial(i-j)), end=\" \")\n",
    " \n",
    "    # for new line\n",
    "    print()"
   ]
  },
  {
   "cell_type": "code",
   "execution_count": 94,
   "id": "da04dc23-b8f9-439c-b276-7012622f475e",
   "metadata": {},
   "outputs": [
    {
     "name": "stdout",
     "output_type": "stream",
     "text": [
      "Sum of digits of factorials: [1, 2, 6, 6, 3]\n"
     ]
    }
   ],
   "source": [
    "#Topic 1: Python problems Assignment problems...question no 36(challenge level)\n",
    "# a program that calculates the sum of the digits of a factorial of numbers from 1 to 5 using list\n",
    "from math import factorial\n",
    "\n",
    "factorial_sums = [sum(int(digit) for digit in str(factorial(num))) for num in range(1, 6)]\n",
    "print(\"Sum of digits of factorials:\", factorial_sums)\n"
   ]
  },
  {
   "cell_type": "code",
   "execution_count": 93,
   "id": "b9a08dc2-47ec-4ee1-93ff-a69d8da6fa65",
   "metadata": {},
   "outputs": [
    {
     "name": "stdout",
     "output_type": "stream",
     "text": [
      "Longest word in the sentence: sentence\n"
     ]
    }
   ],
   "source": [
    "#Topic 1: Python problems Assignment problems...question no 37(challenge level)\n",
    "\n",
    "sentence = \"This is a sample sentence to find the longest word\"  # Example sentence\n",
    "\n",
    "longest_word = max(sentence.split(), key=len)\n",
    "print(\"Longest word in the sentence:\", longest_word)\n"
   ]
  },
  {
   "cell_type": "code",
   "execution_count": 92,
   "id": "00b27d0c-5cda-4f38-b6a7-93cc248d8ad9",
   "metadata": {},
   "outputs": [
    {
     "name": "stdout",
     "output_type": "stream",
     "text": [
      "Strings with more than three vowels: []\n"
     ]
    }
   ],
   "source": [
    "#Topic 1: Python problems Assignment problems...question no 38(challenge level)\n",
    "string_list = [\"hello\", \"world\", \"example\", \"programming\", \"python\"]  # Example list of strings\n",
    "\n",
    "filtered_strings = [word for word in string_list if sum(1 for char in word if char.lower() in 'aeiou') > 3]\n",
    "print(\"Strings with more than three vowels:\", filtered_strings)\n"
   ]
  },
  {
   "cell_type": "code",
   "execution_count": 91,
   "id": "cd2ad119-c418-4b8f-800c-0a1c04715afb",
   "metadata": {},
   "outputs": [
    {
     "name": "stdout",
     "output_type": "stream",
     "text": [
      "Sum of digits for numbers from 1 to 1000: [1, 2, 3, 4, 5, 6, 7, 8, 9, 1, 2, 3, 4, 5, 6, 7, 8, 9, 10, 2, 3, 4, 5, 6, 7, 8, 9, 10, 11, 3, 4, 5, 6, 7, 8, 9, 10, 11, 12, 4, 5, 6, 7, 8, 9, 10, 11, 12, 13, 5, 6, 7, 8, 9, 10, 11, 12, 13, 14, 6, 7, 8, 9, 10, 11, 12, 13, 14, 15, 7, 8, 9, 10, 11, 12, 13, 14, 15, 16, 8, 9, 10, 11, 12, 13, 14, 15, 16, 17, 9, 10, 11, 12, 13, 14, 15, 16, 17, 18, 1, 2, 3, 4, 5, 6, 7, 8, 9, 10, 2, 3, 4, 5, 6, 7, 8, 9, 10, 11, 3, 4, 5, 6, 7, 8, 9, 10, 11, 12, 4, 5, 6, 7, 8, 9, 10, 11, 12, 13, 5, 6, 7, 8, 9, 10, 11, 12, 13, 14, 6, 7, 8, 9, 10, 11, 12, 13, 14, 15, 7, 8, 9, 10, 11, 12, 13, 14, 15, 16, 8, 9, 10, 11, 12, 13, 14, 15, 16, 17, 9, 10, 11, 12, 13, 14, 15, 16, 17, 18, 10, 11, 12, 13, 14, 15, 16, 17, 18, 19, 2, 3, 4, 5, 6, 7, 8, 9, 10, 11, 3, 4, 5, 6, 7, 8, 9, 10, 11, 12, 4, 5, 6, 7, 8, 9, 10, 11, 12, 13, 5, 6, 7, 8, 9, 10, 11, 12, 13, 14, 6, 7, 8, 9, 10, 11, 12, 13, 14, 15, 7, 8, 9, 10, 11, 12, 13, 14, 15, 16, 8, 9, 10, 11, 12, 13, 14, 15, 16, 17, 9, 10, 11, 12, 13, 14, 15, 16, 17, 18, 10, 11, 12, 13, 14, 15, 16, 17, 18, 19, 11, 12, 13, 14, 15, 16, 17, 18, 19, 20, 3, 4, 5, 6, 7, 8, 9, 10, 11, 12, 4, 5, 6, 7, 8, 9, 10, 11, 12, 13, 5, 6, 7, 8, 9, 10, 11, 12, 13, 14, 6, 7, 8, 9, 10, 11, 12, 13, 14, 15, 7, 8, 9, 10, 11, 12, 13, 14, 15, 16, 8, 9, 10, 11, 12, 13, 14, 15, 16, 17, 9, 10, 11, 12, 13, 14, 15, 16, 17, 18, 10, 11, 12, 13, 14, 15, 16, 17, 18, 19, 11, 12, 13, 14, 15, 16, 17, 18, 19, 20, 12, 13, 14, 15, 16, 17, 18, 19, 20, 21, 4, 5, 6, 7, 8, 9, 10, 11, 12, 13, 5, 6, 7, 8, 9, 10, 11, 12, 13, 14, 6, 7, 8, 9, 10, 11, 12, 13, 14, 15, 7, 8, 9, 10, 11, 12, 13, 14, 15, 16, 8, 9, 10, 11, 12, 13, 14, 15, 16, 17, 9, 10, 11, 12, 13, 14, 15, 16, 17, 18, 10, 11, 12, 13, 14, 15, 16, 17, 18, 19, 11, 12, 13, 14, 15, 16, 17, 18, 19, 20, 12, 13, 14, 15, 16, 17, 18, 19, 20, 21, 13, 14, 15, 16, 17, 18, 19, 20, 21, 22, 5, 6, 7, 8, 9, 10, 11, 12, 13, 14, 6, 7, 8, 9, 10, 11, 12, 13, 14, 15, 7, 8, 9, 10, 11, 12, 13, 14, 15, 16, 8, 9, 10, 11, 12, 13, 14, 15, 16, 17, 9, 10, 11, 12, 13, 14, 15, 16, 17, 18, 10, 11, 12, 13, 14, 15, 16, 17, 18, 19, 11, 12, 13, 14, 15, 16, 17, 18, 19, 20, 12, 13, 14, 15, 16, 17, 18, 19, 20, 21, 13, 14, 15, 16, 17, 18, 19, 20, 21, 22, 14, 15, 16, 17, 18, 19, 20, 21, 22, 23, 6, 7, 8, 9, 10, 11, 12, 13, 14, 15, 7, 8, 9, 10, 11, 12, 13, 14, 15, 16, 8, 9, 10, 11, 12, 13, 14, 15, 16, 17, 9, 10, 11, 12, 13, 14, 15, 16, 17, 18, 10, 11, 12, 13, 14, 15, 16, 17, 18, 19, 11, 12, 13, 14, 15, 16, 17, 18, 19, 20, 12, 13, 14, 15, 16, 17, 18, 19, 20, 21, 13, 14, 15, 16, 17, 18, 19, 20, 21, 22, 14, 15, 16, 17, 18, 19, 20, 21, 22, 23, 15, 16, 17, 18, 19, 20, 21, 22, 23, 24, 7, 8, 9, 10, 11, 12, 13, 14, 15, 16, 8, 9, 10, 11, 12, 13, 14, 15, 16, 17, 9, 10, 11, 12, 13, 14, 15, 16, 17, 18, 10, 11, 12, 13, 14, 15, 16, 17, 18, 19, 11, 12, 13, 14, 15, 16, 17, 18, 19, 20, 12, 13, 14, 15, 16, 17, 18, 19, 20, 21, 13, 14, 15, 16, 17, 18, 19, 20, 21, 22, 14, 15, 16, 17, 18, 19, 20, 21, 22, 23, 15, 16, 17, 18, 19, 20, 21, 22, 23, 24, 16, 17, 18, 19, 20, 21, 22, 23, 24, 25, 8, 9, 10, 11, 12, 13, 14, 15, 16, 17, 9, 10, 11, 12, 13, 14, 15, 16, 17, 18, 10, 11, 12, 13, 14, 15, 16, 17, 18, 19, 11, 12, 13, 14, 15, 16, 17, 18, 19, 20, 12, 13, 14, 15, 16, 17, 18, 19, 20, 21, 13, 14, 15, 16, 17, 18, 19, 20, 21, 22, 14, 15, 16, 17, 18, 19, 20, 21, 22, 23, 15, 16, 17, 18, 19, 20, 21, 22, 23, 24, 16, 17, 18, 19, 20, 21, 22, 23, 24, 25, 17, 18, 19, 20, 21, 22, 23, 24, 25, 26, 9, 10, 11, 12, 13, 14, 15, 16, 17, 18, 10, 11, 12, 13, 14, 15, 16, 17, 18, 19, 11, 12, 13, 14, 15, 16, 17, 18, 19, 20, 12, 13, 14, 15, 16, 17, 18, 19, 20, 21, 13, 14, 15, 16, 17, 18, 19, 20, 21, 22, 14, 15, 16, 17, 18, 19, 20, 21, 22, 23, 15, 16, 17, 18, 19, 20, 21, 22, 23, 24, 16, 17, 18, 19, 20, 21, 22, 23, 24, 25, 17, 18, 19, 20, 21, 22, 23, 24, 25, 26, 18, 19, 20, 21, 22, 23, 24, 25, 26, 27, 1]\n"
     ]
    }
   ],
   "source": [
    "#Topic 1: Python problems Assignment problems...question no 39(challenge level)\n",
    "digit_sums = [sum(int(digit) for digit in str(num)) for num in range(1, 1001)]\n",
    "print(\"Sum of digits for numbers from 1 to 1000:\", digit_sums)\n"
   ]
  },
  {
   "cell_type": "code",
   "execution_count": 90,
   "id": "b7e5b90e-4981-4ff7-948c-591698829a03",
   "metadata": {},
   "outputs": [
    {
     "name": "stdout",
     "output_type": "stream",
     "text": [
      "Prime palindromic numbers: [2, 3, 5, 7, 11]\n"
     ]
    }
   ],
   "source": [
    "#Topic 1: Python problems Assignment problems...question no 40(challenge level)\n",
    "def is_prime(num):\n",
    "    if num < 2:\n",
    "        return False\n",
    "    for i in range(2, int(num ** 0.5) + 1):\n",
    "        if num % i == 0:\n",
    "            return False\n",
    "    return True\n",
    "\n",
    "limit = 100  # Example limit\n",
    "palindromic_primes = [num for num in range(limit) if str(num) == str(num)[::-1] and is_prime(num)]\n",
    "print(\"Prime palindromic numbers:\", palindromic_primes)\n"
   ]
  },
  {
   "cell_type": "code",
   "execution_count": null,
   "id": "9b5f6b34-ba2c-4b19-a0f9-70f4064c2458",
   "metadata": {},
   "outputs": [],
   "source": []
  }
 ],
 "metadata": {
  "kernelspec": {
   "display_name": "Python 3 (ipykernel)",
   "language": "python",
   "name": "python3"
  },
  "language_info": {
   "codemirror_mode": {
    "name": "ipython",
    "version": 3
   },
   "file_extension": ".py",
   "mimetype": "text/x-python",
   "name": "python",
   "nbconvert_exporter": "python",
   "pygments_lexer": "ipython3",
   "version": "3.10.8"
  }
 },
 "nbformat": 4,
 "nbformat_minor": 5
}
